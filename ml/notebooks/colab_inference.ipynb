{
 "cells": [
  {
   "cell_type": "markdown",
   "metadata": {},
   "source": [
    "# Aldar Köse Storyboard Generator\n",
    "End-to-end inference notebook for Google Colab."
   ]
  },
  {
   "cell_type": "code",
   "execution_count": null,
   "metadata": {},
   "outputs": [],
   "source": [
    "!pip install -U pip\n",
    "!pip install -r ml/requirements.txt"
   ]
  },
  {
   "cell_type": "code",
   "execution_count": null,
   "metadata": {},
   "outputs": [],
   "source": [
    "import os\n",
    "from datetime import datetime\n",
    "\n",
    "LOG_DIR = 'ml/outputs'\n",
    "os.makedirs(LOG_DIR, exist_ok=True)\n",
    "print('Outputs will be saved to', LOG_DIR)"
   ]
  },
  {
   "cell_type": "code",
   "execution_count": null,
   "metadata": {},
   "outputs": [],
   "source": [
    "!python -m ml.src.cli.generate_storyboard --logline \"Aldar Köse cleverly exposes a greedy merchant at the lively bazaar.\" --frames 8 --use_ip_adapter --use_controlnet"
   ]
  },
  {
   "cell_type": "code",
   "execution_count": null,
   "metadata": {},
   "outputs": [],
   "source": [
    "import json, glob\n",
    "from PIL import Image\n",
    "from IPython.display import display\n",
    "\n",
    "latest_run = sorted(glob.glob('ml/outputs/*'))[-1]\n",
    "print('Latest run:', latest_run)\n",
    "index = json.load(open(f'{latest_run}/index.json'))\n",
    "print(json.dumps(index['metrics'], indent=2))\n",
    "\n",
    "frames = sorted(glob.glob(f"{latest_run}/frame_*.png"))\n",
    "for path in frames:\n",
    "    display(Image.open(path))"
   ]
  }
 ],
 "metadata": {
  "kernelspec": {
   "display_name": "Python 3",
   "language": "python",
   "name": "python3"
  },
  "language_info": {
   "name": "python",
   "version": "3.x"
  }
 },
 "nbformat": 4,
 "nbformat_minor": 5
}
