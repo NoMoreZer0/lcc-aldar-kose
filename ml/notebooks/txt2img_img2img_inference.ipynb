{
 "cells": [
  {
   "cell_type": "markdown",
   "metadata": {},
   "source": [
    "# SDXL txt2img and img2img Inference\n",
    "\n",
    "This notebook demonstrates text-to-image (txt2img) and image-to-image (img2img) inference using the project's SDXL engine (`ml.src.diffusion.engine.SDXLEngine`).\n",
    "\n",
    "Requirements:\n",
    "- GPU with VRAM 8GB+ recommended\n",
    "- The repository checked out locally and this notebook opened within it\n",
    "\n",
    "Outputs are saved under `ml/notebooks/ml/outputs/<timestamp>`.\n"
   ]
  },
  {
   "cell_type": "code",
   "execution_count": null,
   "id": "55f03989",
   "metadata": {},
   "outputs": [],
   "source": [
    "import sys, os\n",
    "from pathlib import Path\n",
    "from datetime import datetime\n",
    "\n",
    "# Locate repository root (contains 'ml/src')\n",
    "repo_root = Path.cwd()\n",
    "if not (repo_root / 'ml' / 'src').exists():\n",
    "    cand = repo_root\n",
    "    for _ in range(6):\n",
    "        if (cand / 'ml' / 'src').exists():\n",
    "            repo_root = cand\n",
    "            break\n",
    "        cand = cand.parent\n",
    "if str(repo_root) not in sys.path:\n",
    "    sys.path.insert(0, str(repo_root))\n",
    "print('Repo root:', repo_root)\n",
    "\n",
    "# Ensure outputs directory exists\n",
    "timestamp = datetime.now().strftime('%Y%m%d-%H%M%S')\n",
    "out_dir = repo_root / 'ml' / 'notebooks' / 'ml' / 'outputs' / f'notebook-{timestamp}'\n",
    "out_dir.mkdir(parents=True, exist_ok=True)\n",
    "print('Output dir:', out_dir)\n"
   ]
  },
  {
   "cell_type": "code",
   "execution_count": null,
   "id": "3114ba81",
   "metadata": {},
   "outputs": [],
   "source": [
    "# Optional: install dependencies from requirements (skip if already installed)\n",
    "import subprocess\n",
    "req = repo_root / 'ml' / 'requirements.txt'\n",
    "if req.exists():\n",
    "    print('Installing dependencies from', req)\n",
    "    try:\n",
    "        subprocess.run([sys.executable, '-m', 'pip', 'install', '-q', '-r', str(req)], check=False)\n",
    "    except Exception as e:\n",
    "        print('pip install failed or skipped:', e)\n",
    "else:\n",
    "    print('requirements.txt not found at', req)\n"
   ]
  },
  {
   "cell_type": "code",
   "execution_count": null,
   "id": "c5783151",
   "metadata": {},
   "outputs": [],
   "source": [
    "import torch\n",
    "from PIL import Image\n",
    "from ml.src.diffusion.engine import SDXLEngine\n",
    "\n",
    "print('PyTorch:', torch.__version__, '| CUDA available:', torch.cuda.is_available())\n"
   ]
  },
  {
   "cell_type": "markdown",
   "id": "a26fe471",
   "metadata": {},
   "source": [
    "## Configuration\n",
    "- Adjust the prompt and parameters below.\n",
    "- Width/height should typically be multiples of 8 (SDXL commonly uses 1024x1024).\n",
    "- Seed controls reproducibility.\n"
   ]
  },
  {
   "cell_type": "code",
   "execution_count": null,
   "id": "6b97262b",
   "metadata": {},
   "outputs": [],
   "source": [
    "BASE_ID = 'stabilityai/stable-diffusion-xl-base-1.0'\n",
    "WIDTH = 1024\n",
    "HEIGHT = 1024\n",
    "STEPS = 30\n",
    "GUIDANCE = 7.5\n",
    "SEED = 12345\n",
    "NEGATIVE_PROMPT = None  # e.g., 'blurry, low quality, artifacts'\n",
    "\n",
    "PROMPT = 'Depict Aldar Kose • Middle-aged Kazakh trickster • traditional chapan robe • kalpak hat • gentle, knowing smile • rooted in Kazakh green steppe heritage, folk textiles, and oral storytelling traditions, cinematic, highly detailed, 8k'\n",
    "IMG2IMG_STRENGTH = 0.99  # 0.0 = copy init, 1.0 = ignore init\n"
   ]
  },
  {
   "cell_type": "markdown",
   "id": "3a2beae2",
   "metadata": {},
   "source": [
    "## Initialize Engine\n",
    "This loads the SDXL txt2img and img2img pipelines and applies memory optimizations automatically (VAE tiling/slicing, xFormers if available).\n"
   ]
  },
  {
   "cell_type": "code",
   "execution_count": null,
   "id": "05133d7a",
   "metadata": {},
   "outputs": [],
   "source": [
    "engine = SDXLEngine({\n",
    "    'base_id': BASE_ID,\n",
    "    'width': WIDTH,\n",
    "    'height': HEIGHT,\n",
    "    'steps': STEPS,\n",
    "    'guidance': GUIDANCE,\n",
    "    'negative_prompt': NEGATIVE_PROMPT,\n",
    "})\n",
    "\n",
    "device = 'cuda' if torch.cuda.is_available() else 'cpu'\n",
    "print('Engine ready on', device, '| dtype:', engine.get_dtype())\n"
   ]
  },
  {
   "cell_type": "markdown",
   "id": "d843c807",
   "metadata": {},
   "source": [
    "## Helpers\n",
    "- Display images inline\n",
    "- Save images to the timestamped output directory\n",
    "- Concatenate images side-by-side for quick comparison\n"
   ]
  },
  {
   "cell_type": "code",
   "execution_count": null,
   "id": "59ba6902",
   "metadata": {},
   "outputs": [],
   "source": [
    "from IPython.display import display\n",
    "\n",
    "def show(img: Image.Image, title: str | None = None):\n",
    "    display(img)\n",
    "\n",
    "def save(img: Image.Image, name: str) -> Path:\n",
    "    path = out_dir / name\n",
    "    img.save(path)\n",
    "    return path\n",
    "\n",
    "def side_by_side(left: Image.Image, right: Image.Image) -> Image.Image:\n",
    "    w = left.width + right.width\n",
    "    h = max(left.height, right.height)\n",
    "    canvas = Image.new('RGB', (w, h))\n",
    "    canvas.paste(left, (0, 0))\n",
    "    canvas.paste(right, (left.width, 0))\n",
    "    return canvas\n"
   ]
  },
  {
   "cell_type": "code",
   "execution_count": null,
   "id": "ee9a3b66",
   "metadata": {},
   "outputs": [],
   "source": [
    "txt2img = engine.generate(\n",
    "    prompt=PROMPT,\n",
    "    seed=SEED,\n",
    "    width=WIDTH,\n",
    "    height=HEIGHT,\n",
    "    steps=STEPS,\n",
    "    guidance=GUIDANCE\n",
    ")"
   ]
  },
  {
   "cell_type": "markdown",
   "id": "08a3d381",
   "metadata": {},
   "source": [
    "## txt2img\n",
    "Generate an image from the text prompt.\n"
   ]
  },
  {
   "cell_type": "code",
   "execution_count": null,
   "id": "0eda451e",
   "metadata": {},
   "outputs": [],
   "source": [
    "images = []\n",
    "prev = None\n",
    "\n",
    "for i in range(8):\n",
    "    seed_i = 42 + i\n",
    "    img = engine.generate(\n",
    "        prompt=PROMPT,\n",
    "        seed=seed_i,\n",
    "        width=WIDTH,\n",
    "        height=HEIGHT,\n",
    "        steps=STEPS,\n",
    "        guidance=GUIDANCE,\n",
    "    )\n",
    "    images.append(img)\n",
    "    prev = img\n",
    "    save(img, f\"frame_{i:02d}.png\");"
   ]
  },
  {
   "cell_type": "code",
   "execution_count": null,
   "id": "d6d093e0",
   "metadata": {},
   "outputs": [],
   "source": [
    "def make_contact_sheet(images, cols=4, max_thumb=256):\n",
    "    if len(images) == 0:\n",
    "        return None\n",
    "    thumbs = []\n",
    "    for img in images:\n",
    "        ratio = min(max_thumb / img.width, max_thumb / img.height, 1.0)\n",
    "        w = int(img.width * ratio)\n",
    "        h = int(img.height * ratio)\n",
    "        thumbs.append(img.copy().resize((w, h)))\n",
    "    rows = (len(thumbs) + cols - 1) // cols\n",
    "    cell_w = max(t.width for t in thumbs)\n",
    "    cell_h = max(t.height for t in thumbs)\n",
    "    sheet = Image.new(\"RGB\", (cell_w * cols, cell_h * rows), color=(0, 0, 0))\n",
    "    for idx, t in enumerate(thumbs):\n",
    "        r = idx // cols\n",
    "        c = idx % cols\n",
    "        sheet.paste(t, (c * cell_w, r * cell_h))\n",
    "    return sheet\n",
    "\n",
    "sheet = make_contact_sheet(images, cols=4, max_thumb=256)\n",
    "if sheet is not None:\n",
    "    show(sheet, \"Contact sheet of frames\")\n",
    "    save(sheet, \"frames_contact_sheet.png\")\n"
   ]
  },
  {
   "cell_type": "markdown",
   "id": "b60727f8",
   "metadata": {},
   "source": [
    "## img2img (using previous result as init)\n",
    "Use the txt2img output as the init image and adjust `IMG2IMG_STRENGTH` to control identity/style adherence.\n"
   ]
  },
  {
   "cell_type": "code",
   "execution_count": null,
   "id": "6bf4a65e",
   "metadata": {},
   "outputs": [],
   "source": [
    "img2img_from_prev = engine.generate(\n",
    "    prompt=PROMPT,\n",
    "    seed=SEED,\n",
    "    img2img_start=txt2img,\n",
    "    strength=IMG2IMG_STRENGTH,\n",
    "    width=WIDTH,\n",
    "    height=HEIGHT,\n",
    "    steps=STEPS,\n",
    "    guidance=GUIDANCE,\n",
    ")\n",
    "cmp = side_by_side(txt2img, img2img_from_prev)\n",
    "show(cmp, 'Left: txt2img | Right: img2img (from previous)')\n",
    "save(img2img_from_prev, 'img2img_from_previous.png')\n",
    "save(cmp, 'comparison.png')\n"
   ]
  },
  {
   "cell_type": "markdown",
   "id": "7f57996f",
   "metadata": {},
   "source": [
    "## img2img (custom init image)\n",
    "Optionally set `init_path` to an external image to perform img2img against a specific reference (leave as `None` to reuse the txt2img result).\n"
   ]
  },
  {
   "cell_type": "code",
   "execution_count": null,
   "id": "77961bf1",
   "metadata": {},
   "outputs": [],
   "source": [
    "init_path = None  # e.g., repo_root / 'ml' / 'assets' / 'identity' / 'aldar.jpg'\n",
    "if init_path:\n",
    "    init_path = Path(init_path)\n",
    "    init_img = Image.open(init_path).convert('RGB')\n",
    "    print('Loaded init image:', init_path)\n",
    "else:\n",
    "    init_img = txt2img\n",
    "    print('Using txt2img as init image')\n",
    "\n",
    "img2img_custom = engine.generate(\n",
    "    prompt=PROMPT,\n",
    "    seed=SEED,\n",
    "    img2img_start=init_img,\n",
    "    strength=IMG2IMG_STRENGTH,\n",
    "    width=WIDTH,\n",
    "    height=HEIGHT,\n",
    "    steps=STEPS,\n",
    "    guidance=GUIDANCE,\n",
    ")\n",
    "show(img2img_custom, 'img2img (custom init)')\n",
    "save(img2img_custom, 'img2img_custom.png')\n"
   ]
  },
  {
   "cell_type": "markdown",
   "id": "cb2c9851",
   "metadata": {},
   "source": [
    "## Tips and Notes\n",
    "- `IMG2IMG_STRENGTH` controls adherence to the init image: lower values preserve more identity/composition.\n",
    "- Use a `NEGATIVE_PROMPT` to steer away from artifacts (e.g., \"blurry, low quality, deformed\").\n",
    "- If you encounter CUDA OOM, try smaller resolution (e.g., 768x768), reduce steps, or ensure xFormers is installed.\n",
    "- Randomize or vary `SEED` for different outputs.\n"
   ]
  },
  {
   "cell_type": "markdown",
   "id": "c9b258d9",
   "metadata": {},
   "source": [
    "## Multi-frame sequence (txt2img + iterative img2img)\n",
    "\n",
    "This section generates a longer sequence of frames to demonstrate consistency over time.\n",
    "- Frame 0 is generated with txt2img.\n",
    "- Frames 1..N use img2img with the previous frame as the init image.\n",
    "- Set `FRAME_SEED_MODE` to `fixed` to keep the seed the same across frames, or `increment` to vary it per frame.\n"
   ]
  },
  {
   "cell_type": "code",
   "execution_count": null,
   "id": "24699eff",
   "metadata": {},
   "outputs": [],
   "source": [
    "N_FRAMES = 8\n",
    "FRAME_SEED_MODE = \"increment\"  # \"fixed\" or \"increment\"\n",
    "SEED_BASE = SEED\n",
    "STRENGTH = IMG2IMG_STRENGTH  # alias for per-sequence tweaking\n"
   ]
  },
  {
   "cell_type": "code",
   "execution_count": null,
   "id": "516b2943",
   "metadata": {},
   "outputs": [],
   "source": [
    "images = []\n",
    "prev = None\n",
    "\n",
    "for i in range(N_FRAMES):\n",
    "    seed_i = SEED_BASE if FRAME_SEED_MODE == \"fixed\" else (SEED_BASE + i)\n",
    "    if i == 0:\n",
    "        img = engine.generate(\n",
    "            prompt=PROMPT,\n",
    "            seed=seed_i,\n",
    "            width=WIDTH,\n",
    "            height=HEIGHT,\n",
    "            steps=STEPS,\n",
    "            guidance=GUIDANCE,\n",
    "        )\n",
    "    else:\n",
    "        img = engine.generate(\n",
    "            prompt=PROMPT,\n",
    "            seed=seed_i,\n",
    "            img2img_start=prev,\n",
    "            strength=STRENGTH,\n",
    "            width=WIDTH,\n",
    "            height=HEIGHT,\n",
    "            steps=STEPS,\n",
    "            guidance=GUIDANCE,\n",
    "        )\n",
    "    images.append(img)\n",
    "    prev = img\n",
    "    save(img, f\"frame_{i:02d}.png\")"
   ]
  },
  {
   "cell_type": "code",
   "execution_count": null,
   "id": "ceb1fde1",
   "metadata": {},
   "outputs": [],
   "source": [
    "def make_contact_sheet(images, cols=4, max_thumb=256):\n",
    "    if len(images) == 0:\n",
    "        return None\n",
    "    thumbs = []\n",
    "    for img in images:\n",
    "        ratio = min(max_thumb / img.width, max_thumb / img.height, 1.0)\n",
    "        w = int(img.width * ratio)\n",
    "        h = int(img.height * ratio)\n",
    "        thumbs.append(img.copy().resize((w, h)))\n",
    "    rows = (len(thumbs) + cols - 1) // cols\n",
    "    cell_w = max(t.width for t in thumbs)\n",
    "    cell_h = max(t.height for t in thumbs)\n",
    "    sheet = Image.new(\"RGB\", (cell_w * cols, cell_h * rows), color=(0, 0, 0))\n",
    "    for idx, t in enumerate(thumbs):\n",
    "        r = idx // cols\n",
    "        c = idx % cols\n",
    "        sheet.paste(t, (c * cell_w, r * cell_h))\n",
    "    return sheet\n",
    "\n",
    "sheet = make_contact_sheet(images, cols=4, max_thumb=256)\n",
    "if sheet is not None:\n",
    "    show(sheet, \"Contact sheet of frames\")\n",
    "    save(sheet, \"frames_contact_sheet.png\")\n"
   ]
  }
 ],
 "metadata": {
  "kernelspec": {
   "display_name": "base",
   "language": "python",
   "name": "python3"
  },
  "language_info": {
   "codemirror_mode": {
    "name": "ipython",
    "version": 3
   },
   "file_extension": ".py",
   "mimetype": "text/x-python",
   "name": "python",
   "nbconvert_exporter": "python",
   "pygments_lexer": "ipython3",
   "version": "3.10.18"
  },
  "orig_nbformat": 4
 },
 "nbformat": 4,
 "nbformat_minor": 5
}
